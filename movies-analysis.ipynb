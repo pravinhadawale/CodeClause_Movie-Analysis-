{
 "cells": [
  {
   "cell_type": "markdown",
   "id": "9586916d",
   "metadata": {},
   "source": [
    "# CodeClause Data Science Intern"
   ]
  },
  {
   "cell_type": "markdown",
   "id": "d2f65bf7",
   "metadata": {},
   "source": [
    "# Name : Pravin Suresh Hadawale"
   ]
  },
  {
   "cell_type": "markdown",
   "id": "8cefe33c",
   "metadata": {},
   "source": [
    "# Movie Analysis"
   ]
  },
  {
   "cell_type": "code",
   "execution_count": 1,
   "id": "fec198ad",
   "metadata": {
    "_cell_guid": "b1076dfc-b9ad-4769-8c92-a6c4dae69d19",
    "_uuid": "8f2839f25d086af736a60e9eeb907d3b93b6e0e5",
    "execution": {
     "iopub.execute_input": "2022-10-20T20:44:56.279914Z",
     "iopub.status.busy": "2022-10-20T20:44:56.279380Z",
     "iopub.status.idle": "2022-10-20T20:44:56.298017Z",
     "shell.execute_reply": "2022-10-20T20:44:56.296751Z"
    },
    "papermill": {
     "duration": 0.030649,
     "end_time": "2022-10-20T20:44:56.300940",
     "exception": false,
     "start_time": "2022-10-20T20:44:56.270291",
     "status": "completed"
    },
    "tags": []
   },
   "outputs": [],
   "source": [
    "import numpy as np \n",
    "import pandas as pd \n",
    "import matplotlib.pyplot as plt\n",
    "\n",
    "\n",
    "import os\n",
    "for dirname, _, filenames in os.walk('/kaggle/input'):\n",
    "    for filename in filenames:\n",
    "        print(os.path.join(dirname, filename))"
   ]
  },
  {
   "cell_type": "code",
   "execution_count": 2,
   "id": "730d064e",
   "metadata": {
    "execution": {
     "iopub.execute_input": "2022-10-20T20:44:56.314599Z",
     "iopub.status.busy": "2022-10-20T20:44:56.314203Z",
     "iopub.status.idle": "2022-10-20T20:44:56.388641Z",
     "shell.execute_reply": "2022-10-20T20:44:56.387522Z"
    },
    "papermill": {
     "duration": 0.084257,
     "end_time": "2022-10-20T20:44:56.391267",
     "exception": false,
     "start_time": "2022-10-20T20:44:56.307010",
     "status": "completed"
    },
    "tags": []
   },
   "outputs": [
    {
     "data": {
      "text/html": [
       "<div>\n",
       "<style scoped>\n",
       "    .dataframe tbody tr th:only-of-type {\n",
       "        vertical-align: middle;\n",
       "    }\n",
       "\n",
       "    .dataframe tbody tr th {\n",
       "        vertical-align: top;\n",
       "    }\n",
       "\n",
       "    .dataframe thead th {\n",
       "        text-align: right;\n",
       "    }\n",
       "</style>\n",
       "<table border=\"1\" class=\"dataframe\">\n",
       "  <thead>\n",
       "    <tr style=\"text-align: right;\">\n",
       "      <th></th>\n",
       "      <th>Poster_Link</th>\n",
       "      <th>Series_Title</th>\n",
       "      <th>Released_Year</th>\n",
       "      <th>Certificate</th>\n",
       "      <th>Runtime</th>\n",
       "      <th>Genre</th>\n",
       "      <th>IMDB_Rating</th>\n",
       "      <th>Overview</th>\n",
       "      <th>Meta_score</th>\n",
       "      <th>Director</th>\n",
       "      <th>Star1</th>\n",
       "      <th>Star2</th>\n",
       "      <th>Star3</th>\n",
       "      <th>Star4</th>\n",
       "      <th>No_of_Votes</th>\n",
       "      <th>Gross</th>\n",
       "    </tr>\n",
       "  </thead>\n",
       "  <tbody>\n",
       "    <tr>\n",
       "      <th>0</th>\n",
       "      <td>https://m.media-amazon.com/images/M/MV5BMDFkYT...</td>\n",
       "      <td>The Shawshank Redemption</td>\n",
       "      <td>1994</td>\n",
       "      <td>A</td>\n",
       "      <td>142 min</td>\n",
       "      <td>Drama</td>\n",
       "      <td>9.3</td>\n",
       "      <td>Two imprisoned men bond over a number of years...</td>\n",
       "      <td>80.0</td>\n",
       "      <td>Frank Darabont</td>\n",
       "      <td>Tim Robbins</td>\n",
       "      <td>Morgan Freeman</td>\n",
       "      <td>Bob Gunton</td>\n",
       "      <td>William Sadler</td>\n",
       "      <td>2343110</td>\n",
       "      <td>28,341,469</td>\n",
       "    </tr>\n",
       "    <tr>\n",
       "      <th>1</th>\n",
       "      <td>https://m.media-amazon.com/images/M/MV5BM2MyNj...</td>\n",
       "      <td>The Godfather</td>\n",
       "      <td>1972</td>\n",
       "      <td>A</td>\n",
       "      <td>175 min</td>\n",
       "      <td>Crime, Drama</td>\n",
       "      <td>9.2</td>\n",
       "      <td>An organized crime dynasty's aging patriarch t...</td>\n",
       "      <td>100.0</td>\n",
       "      <td>Francis Ford Coppola</td>\n",
       "      <td>Marlon Brando</td>\n",
       "      <td>Al Pacino</td>\n",
       "      <td>James Caan</td>\n",
       "      <td>Diane Keaton</td>\n",
       "      <td>1620367</td>\n",
       "      <td>134,966,411</td>\n",
       "    </tr>\n",
       "    <tr>\n",
       "      <th>2</th>\n",
       "      <td>https://m.media-amazon.com/images/M/MV5BMTMxNT...</td>\n",
       "      <td>The Dark Knight</td>\n",
       "      <td>2008</td>\n",
       "      <td>UA</td>\n",
       "      <td>152 min</td>\n",
       "      <td>Action, Crime, Drama</td>\n",
       "      <td>9.0</td>\n",
       "      <td>When the menace known as the Joker wreaks havo...</td>\n",
       "      <td>84.0</td>\n",
       "      <td>Christopher Nolan</td>\n",
       "      <td>Christian Bale</td>\n",
       "      <td>Heath Ledger</td>\n",
       "      <td>Aaron Eckhart</td>\n",
       "      <td>Michael Caine</td>\n",
       "      <td>2303232</td>\n",
       "      <td>534,858,444</td>\n",
       "    </tr>\n",
       "    <tr>\n",
       "      <th>3</th>\n",
       "      <td>https://m.media-amazon.com/images/M/MV5BMWMwMG...</td>\n",
       "      <td>The Godfather: Part II</td>\n",
       "      <td>1974</td>\n",
       "      <td>A</td>\n",
       "      <td>202 min</td>\n",
       "      <td>Crime, Drama</td>\n",
       "      <td>9.0</td>\n",
       "      <td>The early life and career of Vito Corleone in ...</td>\n",
       "      <td>90.0</td>\n",
       "      <td>Francis Ford Coppola</td>\n",
       "      <td>Al Pacino</td>\n",
       "      <td>Robert De Niro</td>\n",
       "      <td>Robert Duvall</td>\n",
       "      <td>Diane Keaton</td>\n",
       "      <td>1129952</td>\n",
       "      <td>57,300,000</td>\n",
       "    </tr>\n",
       "    <tr>\n",
       "      <th>4</th>\n",
       "      <td>https://m.media-amazon.com/images/M/MV5BMWU4N2...</td>\n",
       "      <td>12 Angry Men</td>\n",
       "      <td>1957</td>\n",
       "      <td>U</td>\n",
       "      <td>96 min</td>\n",
       "      <td>Crime, Drama</td>\n",
       "      <td>9.0</td>\n",
       "      <td>A jury holdout attempts to prevent a miscarria...</td>\n",
       "      <td>96.0</td>\n",
       "      <td>Sidney Lumet</td>\n",
       "      <td>Henry Fonda</td>\n",
       "      <td>Lee J. Cobb</td>\n",
       "      <td>Martin Balsam</td>\n",
       "      <td>John Fiedler</td>\n",
       "      <td>689845</td>\n",
       "      <td>4,360,000</td>\n",
       "    </tr>\n",
       "  </tbody>\n",
       "</table>\n",
       "</div>"
      ],
      "text/plain": [
       "                                         Poster_Link  \\\n",
       "0  https://m.media-amazon.com/images/M/MV5BMDFkYT...   \n",
       "1  https://m.media-amazon.com/images/M/MV5BM2MyNj...   \n",
       "2  https://m.media-amazon.com/images/M/MV5BMTMxNT...   \n",
       "3  https://m.media-amazon.com/images/M/MV5BMWMwMG...   \n",
       "4  https://m.media-amazon.com/images/M/MV5BMWU4N2...   \n",
       "\n",
       "               Series_Title Released_Year Certificate  Runtime  \\\n",
       "0  The Shawshank Redemption          1994           A  142 min   \n",
       "1             The Godfather          1972           A  175 min   \n",
       "2           The Dark Knight          2008          UA  152 min   \n",
       "3    The Godfather: Part II          1974           A  202 min   \n",
       "4              12 Angry Men          1957           U   96 min   \n",
       "\n",
       "                  Genre  IMDB_Rating  \\\n",
       "0                 Drama          9.3   \n",
       "1          Crime, Drama          9.2   \n",
       "2  Action, Crime, Drama          9.0   \n",
       "3          Crime, Drama          9.0   \n",
       "4          Crime, Drama          9.0   \n",
       "\n",
       "                                            Overview  Meta_score  \\\n",
       "0  Two imprisoned men bond over a number of years...        80.0   \n",
       "1  An organized crime dynasty's aging patriarch t...       100.0   \n",
       "2  When the menace known as the Joker wreaks havo...        84.0   \n",
       "3  The early life and career of Vito Corleone in ...        90.0   \n",
       "4  A jury holdout attempts to prevent a miscarria...        96.0   \n",
       "\n",
       "               Director           Star1           Star2          Star3  \\\n",
       "0        Frank Darabont     Tim Robbins  Morgan Freeman     Bob Gunton   \n",
       "1  Francis Ford Coppola   Marlon Brando       Al Pacino     James Caan   \n",
       "2     Christopher Nolan  Christian Bale    Heath Ledger  Aaron Eckhart   \n",
       "3  Francis Ford Coppola       Al Pacino  Robert De Niro  Robert Duvall   \n",
       "4          Sidney Lumet     Henry Fonda     Lee J. Cobb  Martin Balsam   \n",
       "\n",
       "            Star4  No_of_Votes        Gross  \n",
       "0  William Sadler      2343110   28,341,469  \n",
       "1    Diane Keaton      1620367  134,966,411  \n",
       "2   Michael Caine      2303232  534,858,444  \n",
       "3    Diane Keaton      1129952   57,300,000  \n",
       "4    John Fiedler       689845    4,360,000  "
      ]
     },
     "execution_count": 2,
     "metadata": {},
     "output_type": "execute_result"
    }
   ],
   "source": [
    "movie_df = pd.read_csv(\"imdb_top_1000.csv\")\n",
    "movie_df.head()"
   ]
  },
  {
   "cell_type": "code",
   "execution_count": 3,
   "id": "24ef4c29",
   "metadata": {
    "execution": {
     "iopub.execute_input": "2022-10-20T20:44:56.405381Z",
     "iopub.status.busy": "2022-10-20T20:44:56.404999Z",
     "iopub.status.idle": "2022-10-20T20:44:56.435201Z",
     "shell.execute_reply": "2022-10-20T20:44:56.433663Z"
    },
    "papermill": {
     "duration": 0.040112,
     "end_time": "2022-10-20T20:44:56.437763",
     "exception": false,
     "start_time": "2022-10-20T20:44:56.397651",
     "status": "completed"
    },
    "tags": []
   },
   "outputs": [
    {
     "name": "stdout",
     "output_type": "stream",
     "text": [
      "<class 'pandas.core.frame.DataFrame'>\n",
      "RangeIndex: 1000 entries, 0 to 999\n",
      "Data columns (total 16 columns):\n",
      " #   Column         Non-Null Count  Dtype  \n",
      "---  ------         --------------  -----  \n",
      " 0   Poster_Link    1000 non-null   object \n",
      " 1   Series_Title   1000 non-null   object \n",
      " 2   Released_Year  1000 non-null   object \n",
      " 3   Certificate    899 non-null    object \n",
      " 4   Runtime        1000 non-null   object \n",
      " 5   Genre          1000 non-null   object \n",
      " 6   IMDB_Rating    1000 non-null   float64\n",
      " 7   Overview       1000 non-null   object \n",
      " 8   Meta_score     843 non-null    float64\n",
      " 9   Director       1000 non-null   object \n",
      " 10  Star1          1000 non-null   object \n",
      " 11  Star2          1000 non-null   object \n",
      " 12  Star3          1000 non-null   object \n",
      " 13  Star4          1000 non-null   object \n",
      " 14  No_of_Votes    1000 non-null   int64  \n",
      " 15  Gross          831 non-null    object \n",
      "dtypes: float64(2), int64(1), object(13)\n",
      "memory usage: 125.1+ KB\n"
     ]
    }
   ],
   "source": [
    "movie_df.info()"
   ]
  },
  {
   "cell_type": "markdown",
   "id": "15ab7b06",
   "metadata": {
    "papermill": {
     "duration": 0.005935,
     "end_time": "2022-10-20T20:44:56.450172",
     "exception": false,
     "start_time": "2022-10-20T20:44:56.444237",
     "status": "completed"
    },
    "tags": []
   },
   "source": [
    "## check duplication"
   ]
  },
  {
   "cell_type": "code",
   "execution_count": 4,
   "id": "cb8fc47d",
   "metadata": {
    "execution": {
     "iopub.execute_input": "2022-10-20T20:44:56.464733Z",
     "iopub.status.busy": "2022-10-20T20:44:56.464065Z",
     "iopub.status.idle": "2022-10-20T20:44:56.478692Z",
     "shell.execute_reply": "2022-10-20T20:44:56.477364Z"
    },
    "papermill": {
     "duration": 0.025016,
     "end_time": "2022-10-20T20:44:56.481371",
     "exception": false,
     "start_time": "2022-10-20T20:44:56.456355",
     "status": "completed"
    },
    "tags": []
   },
   "outputs": [
    {
     "data": {
      "text/plain": [
       "0"
      ]
     },
     "execution_count": 4,
     "metadata": {},
     "output_type": "execute_result"
    }
   ],
   "source": [
    "movie_df.duplicated().sum()"
   ]
  },
  {
   "cell_type": "markdown",
   "id": "426c81db",
   "metadata": {
    "papermill": {
     "duration": 0.005934,
     "end_time": "2022-10-20T20:44:56.493719",
     "exception": false,
     "start_time": "2022-10-20T20:44:56.487785",
     "status": "completed"
    },
    "tags": []
   },
   "source": [
    "## Convert Runtime & Gross column to numeric"
   ]
  },
  {
   "cell_type": "code",
   "execution_count": 5,
   "id": "7bf85bc1",
   "metadata": {
    "execution": {
     "iopub.execute_input": "2022-10-20T20:44:56.508823Z",
     "iopub.status.busy": "2022-10-20T20:44:56.507675Z",
     "iopub.status.idle": "2022-10-20T20:44:56.531913Z",
     "shell.execute_reply": "2022-10-20T20:44:56.530683Z"
    },
    "papermill": {
     "duration": 0.034096,
     "end_time": "2022-10-20T20:44:56.534228",
     "exception": false,
     "start_time": "2022-10-20T20:44:56.500132",
     "status": "completed"
    },
    "tags": []
   },
   "outputs": [
    {
     "data": {
      "text/html": [
       "<div>\n",
       "<style scoped>\n",
       "    .dataframe tbody tr th:only-of-type {\n",
       "        vertical-align: middle;\n",
       "    }\n",
       "\n",
       "    .dataframe tbody tr th {\n",
       "        vertical-align: top;\n",
       "    }\n",
       "\n",
       "    .dataframe thead th {\n",
       "        text-align: right;\n",
       "    }\n",
       "</style>\n",
       "<table border=\"1\" class=\"dataframe\">\n",
       "  <thead>\n",
       "    <tr style=\"text-align: right;\">\n",
       "      <th></th>\n",
       "      <th>Poster_Link</th>\n",
       "      <th>Series_Title</th>\n",
       "      <th>Released_Year</th>\n",
       "      <th>Certificate</th>\n",
       "      <th>Runtime</th>\n",
       "      <th>Genre</th>\n",
       "      <th>IMDB_Rating</th>\n",
       "      <th>Overview</th>\n",
       "      <th>Meta_score</th>\n",
       "      <th>Director</th>\n",
       "      <th>Star1</th>\n",
       "      <th>Star2</th>\n",
       "      <th>Star3</th>\n",
       "      <th>Star4</th>\n",
       "      <th>No_of_Votes</th>\n",
       "      <th>Gross</th>\n",
       "    </tr>\n",
       "  </thead>\n",
       "  <tbody>\n",
       "    <tr>\n",
       "      <th>0</th>\n",
       "      <td>https://m.media-amazon.com/images/M/MV5BMDFkYT...</td>\n",
       "      <td>The Shawshank Redemption</td>\n",
       "      <td>1994</td>\n",
       "      <td>A</td>\n",
       "      <td>142</td>\n",
       "      <td>Drama</td>\n",
       "      <td>9.3</td>\n",
       "      <td>Two imprisoned men bond over a number of years...</td>\n",
       "      <td>80.0</td>\n",
       "      <td>Frank Darabont</td>\n",
       "      <td>Tim Robbins</td>\n",
       "      <td>Morgan Freeman</td>\n",
       "      <td>Bob Gunton</td>\n",
       "      <td>William Sadler</td>\n",
       "      <td>2343110</td>\n",
       "      <td>28341469.0</td>\n",
       "    </tr>\n",
       "  </tbody>\n",
       "</table>\n",
       "</div>"
      ],
      "text/plain": [
       "                                         Poster_Link  \\\n",
       "0  https://m.media-amazon.com/images/M/MV5BMDFkYT...   \n",
       "\n",
       "               Series_Title Released_Year Certificate  Runtime  Genre  \\\n",
       "0  The Shawshank Redemption          1994           A      142  Drama   \n",
       "\n",
       "   IMDB_Rating                                           Overview  Meta_score  \\\n",
       "0          9.3  Two imprisoned men bond over a number of years...        80.0   \n",
       "\n",
       "         Director        Star1           Star2       Star3           Star4  \\\n",
       "0  Frank Darabont  Tim Robbins  Morgan Freeman  Bob Gunton  William Sadler   \n",
       "\n",
       "   No_of_Votes       Gross  \n",
       "0      2343110  28341469.0  "
      ]
     },
     "execution_count": 5,
     "metadata": {},
     "output_type": "execute_result"
    }
   ],
   "source": [
    "movie_df.Runtime = movie_df.Runtime.str.replace(\"min\", \"\")\n",
    "movie_df['Runtime'] = pd.to_numeric(movie_df.Runtime)\n",
    "movie_df.Gross=movie_df.Gross.str.replace(\",\",\"\")\n",
    "movie_df['Gross']=pd.to_numeric(movie_df.Gross)\n",
    "movie_df.head(1)"
   ]
  },
  {
   "cell_type": "markdown",
   "id": "d07d86aa",
   "metadata": {
    "papermill": {
     "duration": 0.00666,
     "end_time": "2022-10-20T20:44:56.547413",
     "exception": false,
     "start_time": "2022-10-20T20:44:56.540753",
     "status": "completed"
    },
    "tags": []
   },
   "source": [
    "## convert Released_year to date"
   ]
  },
  {
   "cell_type": "code",
   "execution_count": 6,
   "id": "d7818bec",
   "metadata": {
    "execution": {
     "iopub.execute_input": "2022-10-20T20:44:56.562797Z",
     "iopub.status.busy": "2022-10-20T20:44:56.562053Z",
     "iopub.status.idle": "2022-10-20T20:44:56.583183Z",
     "shell.execute_reply": "2022-10-20T20:44:56.582264Z"
    },
    "papermill": {
     "duration": 0.031289,
     "end_time": "2022-10-20T20:44:56.585391",
     "exception": false,
     "start_time": "2022-10-20T20:44:56.554102",
     "status": "completed"
    },
    "tags": []
   },
   "outputs": [
    {
     "data": {
      "text/html": [
       "<div>\n",
       "<style scoped>\n",
       "    .dataframe tbody tr th:only-of-type {\n",
       "        vertical-align: middle;\n",
       "    }\n",
       "\n",
       "    .dataframe tbody tr th {\n",
       "        vertical-align: top;\n",
       "    }\n",
       "\n",
       "    .dataframe thead th {\n",
       "        text-align: right;\n",
       "    }\n",
       "</style>\n",
       "<table border=\"1\" class=\"dataframe\">\n",
       "  <thead>\n",
       "    <tr style=\"text-align: right;\">\n",
       "      <th></th>\n",
       "      <th>Poster_Link</th>\n",
       "      <th>Series_Title</th>\n",
       "      <th>Released_Year</th>\n",
       "      <th>Certificate</th>\n",
       "      <th>Runtime</th>\n",
       "      <th>Genre</th>\n",
       "      <th>IMDB_Rating</th>\n",
       "      <th>Overview</th>\n",
       "      <th>Meta_score</th>\n",
       "      <th>Director</th>\n",
       "      <th>Star1</th>\n",
       "      <th>Star2</th>\n",
       "      <th>Star3</th>\n",
       "      <th>Star4</th>\n",
       "      <th>No_of_Votes</th>\n",
       "      <th>Gross</th>\n",
       "    </tr>\n",
       "  </thead>\n",
       "  <tbody>\n",
       "    <tr>\n",
       "      <th>966</th>\n",
       "      <td>https://m.media-amazon.com/images/M/MV5BNjEzYj...</td>\n",
       "      <td>Apollo 13</td>\n",
       "      <td>PG</td>\n",
       "      <td>U</td>\n",
       "      <td>140</td>\n",
       "      <td>Adventure, Drama, History</td>\n",
       "      <td>7.6</td>\n",
       "      <td>NASA must devise a strategy to return Apollo 1...</td>\n",
       "      <td>77.0</td>\n",
       "      <td>Ron Howard</td>\n",
       "      <td>Tom Hanks</td>\n",
       "      <td>Bill Paxton</td>\n",
       "      <td>Kevin Bacon</td>\n",
       "      <td>Gary Sinise</td>\n",
       "      <td>269197</td>\n",
       "      <td>173837933.0</td>\n",
       "    </tr>\n",
       "  </tbody>\n",
       "</table>\n",
       "</div>"
      ],
      "text/plain": [
       "                                           Poster_Link Series_Title  \\\n",
       "966  https://m.media-amazon.com/images/M/MV5BNjEzYj...    Apollo 13   \n",
       "\n",
       "    Released_Year Certificate  Runtime                      Genre  \\\n",
       "966            PG           U      140  Adventure, Drama, History   \n",
       "\n",
       "     IMDB_Rating                                           Overview  \\\n",
       "966          7.6  NASA must devise a strategy to return Apollo 1...   \n",
       "\n",
       "     Meta_score    Director      Star1        Star2        Star3        Star4  \\\n",
       "966        77.0  Ron Howard  Tom Hanks  Bill Paxton  Kevin Bacon  Gary Sinise   \n",
       "\n",
       "     No_of_Votes        Gross  \n",
       "966       269197  173837933.0  "
      ]
     },
     "execution_count": 6,
     "metadata": {},
     "output_type": "execute_result"
    }
   ],
   "source": [
    "movie_df[~movie_df.Released_Year.str.isnumeric()]\n"
   ]
  },
  {
   "cell_type": "code",
   "execution_count": 7,
   "id": "dbfc8730",
   "metadata": {
    "execution": {
     "iopub.execute_input": "2022-10-20T20:44:56.601363Z",
     "iopub.status.busy": "2022-10-20T20:44:56.600567Z",
     "iopub.status.idle": "2022-10-20T20:44:56.610700Z",
     "shell.execute_reply": "2022-10-20T20:44:56.609832Z"
    },
    "papermill": {
     "duration": 0.020687,
     "end_time": "2022-10-20T20:44:56.613017",
     "exception": false,
     "start_time": "2022-10-20T20:44:56.592330",
     "status": "completed"
    },
    "tags": []
   },
   "outputs": [],
   "source": [
    "movie_df.loc[966,'Released_Year']=1995\n",
    "movie_df['Released_Year'] = pd.to_datetime(movie_df['Released_Year'], format=\"%Y\").dt.year"
   ]
  },
  {
   "cell_type": "markdown",
   "id": "ed917ccb",
   "metadata": {
    "papermill": {
     "duration": 0.00632,
     "end_time": "2022-10-20T20:44:56.626024",
     "exception": false,
     "start_time": "2022-10-20T20:44:56.619704",
     "status": "completed"
    },
    "tags": []
   },
   "source": [
    "## transform data from categorical to numerical "
   ]
  },
  {
   "cell_type": "code",
   "execution_count": 8,
   "id": "b935e2eb",
   "metadata": {
    "execution": {
     "iopub.execute_input": "2022-10-20T20:44:56.642495Z",
     "iopub.status.busy": "2022-10-20T20:44:56.641743Z",
     "iopub.status.idle": "2022-10-20T20:44:57.712372Z",
     "shell.execute_reply": "2022-10-20T20:44:57.710771Z"
    },
    "papermill": {
     "duration": 1.081588,
     "end_time": "2022-10-20T20:44:57.715348",
     "exception": false,
     "start_time": "2022-10-20T20:44:56.633760",
     "status": "completed"
    },
    "tags": []
   },
   "outputs": [],
   "source": [
    "\n",
    "from sklearn.preprocessing import LabelEncoder\n",
    "lbl = LabelEncoder()\n",
    "movie_df['Certificate'] = lbl.fit_transform(movie_df['Certificate'])\n",
    "movie_df['Director'] = lbl.fit_transform(movie_df['Director'])\n",
    "movie_df['Star1'] = lbl.fit_transform(movie_df['Star1'])"
   ]
  },
  {
   "cell_type": "markdown",
   "id": "81090d7f",
   "metadata": {
    "papermill": {
     "duration": 0.006292,
     "end_time": "2022-10-20T20:44:57.729084",
     "exception": false,
     "start_time": "2022-10-20T20:44:57.722792",
     "status": "completed"
    },
    "tags": []
   },
   "source": [
    "## check null values"
   ]
  },
  {
   "cell_type": "code",
   "execution_count": 9,
   "id": "2606f252",
   "metadata": {
    "execution": {
     "iopub.execute_input": "2022-10-20T20:44:57.745037Z",
     "iopub.status.busy": "2022-10-20T20:44:57.744591Z",
     "iopub.status.idle": "2022-10-20T20:44:57.756492Z",
     "shell.execute_reply": "2022-10-20T20:44:57.755218Z"
    },
    "papermill": {
     "duration": 0.023292,
     "end_time": "2022-10-20T20:44:57.759032",
     "exception": false,
     "start_time": "2022-10-20T20:44:57.735740",
     "status": "completed"
    },
    "tags": []
   },
   "outputs": [
    {
     "data": {
      "text/plain": [
       "Poster_Link        0\n",
       "Series_Title       0\n",
       "Released_Year      0\n",
       "Certificate        0\n",
       "Runtime            0\n",
       "Genre              0\n",
       "IMDB_Rating        0\n",
       "Overview           0\n",
       "Meta_score       157\n",
       "Director           0\n",
       "Star1              0\n",
       "Star2              0\n",
       "Star3              0\n",
       "Star4              0\n",
       "No_of_Votes        0\n",
       "Gross            169\n",
       "dtype: int64"
      ]
     },
     "execution_count": 9,
     "metadata": {},
     "output_type": "execute_result"
    }
   ],
   "source": [
    "movie_df.isnull().sum()"
   ]
  },
  {
   "cell_type": "code",
   "execution_count": 10,
   "id": "12efed64",
   "metadata": {
    "execution": {
     "iopub.execute_input": "2022-10-20T20:44:57.775396Z",
     "iopub.status.busy": "2022-10-20T20:44:57.774555Z",
     "iopub.status.idle": "2022-10-20T20:44:57.782104Z",
     "shell.execute_reply": "2022-10-20T20:44:57.781254Z"
    },
    "papermill": {
     "duration": 0.018612,
     "end_time": "2022-10-20T20:44:57.784513",
     "exception": false,
     "start_time": "2022-10-20T20:44:57.765901",
     "status": "completed"
    },
    "tags": []
   },
   "outputs": [],
   "source": [
    "movie_df['Certificate'].fillna(\"unknown\",inplace=True)\n",
    "movie_df['Gross'].fillna(movie_df['Gross'].mean() , inplace = True )\n",
    "movie_df['Meta_score'].fillna(movie_df['Meta_score'].mean() , inplace = True )"
   ]
  },
  {
   "cell_type": "markdown",
   "id": "ef75e1eb",
   "metadata": {
    "papermill": {
     "duration": 0.006467,
     "end_time": "2022-10-20T20:44:57.797914",
     "exception": false,
     "start_time": "2022-10-20T20:44:57.791447",
     "status": "completed"
    },
    "tags": []
   },
   "source": [
    "## Q1 What kinds of properties are associated with movies that have high cross?"
   ]
  },
  {
   "cell_type": "markdown",
   "id": "4b459b48",
   "metadata": {
    "papermill": {
     "duration": 0.007079,
     "end_time": "2022-10-20T20:44:57.812103",
     "exception": false,
     "start_time": "2022-10-20T20:44:57.805024",
     "status": "completed"
    },
    "tags": []
   },
   "source": [
    "## using Heatmap to find the relationship between variables"
   ]
  },
  {
   "cell_type": "code",
   "execution_count": 11,
   "id": "adac615c",
   "metadata": {
    "execution": {
     "iopub.execute_input": "2022-10-20T20:44:57.828261Z",
     "iopub.status.busy": "2022-10-20T20:44:57.827526Z",
     "iopub.status.idle": "2022-10-20T20:44:58.814911Z",
     "shell.execute_reply": "2022-10-20T20:44:58.813936Z"
    },
    "papermill": {
     "duration": 0.998213,
     "end_time": "2022-10-20T20:44:58.817250",
     "exception": false,
     "start_time": "2022-10-20T20:44:57.819037",
     "status": "completed"
    },
    "tags": []
   },
   "outputs": [
    {
     "data": {
      "image/png": "[encoded data removed]",
      "text/plain": [
       "<Figure size 864x432 with 2 Axes>"
      ]
     },
     "metadata": {
      "needs_background": "light"
     },
     "output_type": "display_data"
    }
   ],
   "source": [
    "import seaborn as sns\n",
    "fig, ax = plt.subplots(figsize=(12,6))\n",
    "sns.heatmap(movie_df.corr(), annot=True, ax=ax);"
   ]
  },
  {
   "cell_type": "markdown",
   "id": "34f2cbf6",
   "metadata": {
    "papermill": {
     "duration": 0.00745,
     "end_time": "2022-10-20T20:44:58.832828",
     "exception": false,
     "start_time": "2022-10-20T20:44:58.825378",
     "status": "completed"
    },
    "tags": []
   },
   "source": [
    "### the conclusion :\n",
    "##### the kinds of prop. are associated with movies that have high Gross :  No_votes"
   ]
  },
  {
   "cell_type": "markdown",
   "id": "246a8cb0",
   "metadata": {
    "papermill": {
     "duration": 0.007362,
     "end_time": "2022-10-20T20:44:58.847918",
     "exception": false,
     "start_time": "2022-10-20T20:44:58.840556",
     "status": "completed"
    },
    "tags": []
   },
   "source": [
    "## Q2 Is there a relationship between IMDB_Rating & Released_Year ?"
   ]
  },
  {
   "cell_type": "code",
   "execution_count": 12,
   "id": "5a144fa5",
   "metadata": {
    "execution": {
     "iopub.execute_input": "2022-10-20T20:44:58.866511Z",
     "iopub.status.busy": "2022-10-20T20:44:58.865738Z",
     "iopub.status.idle": "2022-10-20T20:44:59.107363Z",
     "shell.execute_reply": "2022-10-20T20:44:59.106391Z"
    },
    "papermill": {
     "duration": 0.253709,
     "end_time": "2022-10-20T20:44:59.109600",
     "exception": false,
     "start_time": "2022-10-20T20:44:58.855891",
     "status": "completed"
    },
    "tags": []
   },
   "outputs": [
    {
     "data": {
      "image/png": "[encoded data removed]",
      "text/plain": [
       "<Figure size 432x288 with 1 Axes>"
      ]
     },
     "metadata": {
      "needs_background": "light"
     },
     "output_type": "display_data"
    }
   ],
   "source": [
    "df1 = movie_df.groupby('Released_Year')['IMDB_Rating'].mean()\n",
    "df1.plot( label='Avg IMDB by year')\n",
    "plt.legend()\n",
    "plt.xlabel('Released Year')\n",
    "plt.ylabel('Avg IMDB ')\n",
    "plt.show()"
   ]
  },
  {
   "cell_type": "markdown",
   "id": "17d674b3",
   "metadata": {
    "papermill": {
     "duration": 0.008043,
     "end_time": "2022-10-20T20:44:59.126481",
     "exception": false,
     "start_time": "2022-10-20T20:44:59.118438",
     "status": "completed"
    },
    "tags": []
   },
   "source": [
    "## Q3 what is the avg of Runtime ? "
   ]
  },
  {
   "cell_type": "code",
   "execution_count": 13,
   "id": "52e96645",
   "metadata": {
    "execution": {
     "iopub.execute_input": "2022-10-20T20:44:59.145478Z",
     "iopub.status.busy": "2022-10-20T20:44:59.144800Z",
     "iopub.status.idle": "2022-10-20T20:44:59.471564Z",
     "shell.execute_reply": "2022-10-20T20:44:59.470171Z"
    },
    "papermill": {
     "duration": 0.339468,
     "end_time": "2022-10-20T20:44:59.474378",
     "exception": false,
     "start_time": "2022-10-20T20:44:59.134910",
     "status": "completed"
    },
    "tags": []
   },
   "outputs": [
    {
     "data": {
      "text/plain": [
       "Text(0.5, 0, 'Movie running time(minutes)')"
      ]
     },
     "execution_count": 13,
     "metadata": {},
     "output_type": "execute_result"
    },
    {
     "data": {
      "image/png": "[encoded data removed]",
      "text/plain": [
       "<Figure size 864x432 with 1 Axes>"
      ]
     },
     "metadata": {
      "needs_background": "light"
     },
     "output_type": "display_data"
    }
   ],
   "source": [
    "fig, ax = plt.subplots(figsize=(12,6))\n",
    "sns.histplot(data=movie_df['Runtime'],ax=ax)\n",
    "plt.xlabel('Movie running time(minutes)')"
   ]
  },
  {
   "cell_type": "markdown",
   "id": "13bd393e",
   "metadata": {
    "papermill": {
     "duration": 0.008956,
     "end_time": "2022-10-20T20:44:59.492483",
     "exception": false,
     "start_time": "2022-10-20T20:44:59.483527",
     "status": "completed"
    },
    "tags": []
   },
   "source": [
    "## Q4 what is the most Certificate popular among people ?"
   ]
  },
  {
   "cell_type": "code",
   "execution_count": 14,
   "id": "770e1b48",
   "metadata": {
    "execution": {
     "iopub.execute_input": "2022-10-20T20:44:59.512005Z",
     "iopub.status.busy": "2022-10-20T20:44:59.511556Z",
     "iopub.status.idle": "2022-10-20T20:44:59.770980Z",
     "shell.execute_reply": "2022-10-20T20:44:59.769779Z"
    },
    "papermill": {
     "duration": 0.272414,
     "end_time": "2022-10-20T20:44:59.773744",
     "exception": false,
     "start_time": "2022-10-20T20:44:59.501330",
     "status": "completed"
    },
    "tags": []
   },
   "outputs": [
    {
     "data": {
      "image/png": "[encoded data removed]",
      "text/plain": [
       "<Figure size 864x576 with 1 Axes>"
      ]
     },
     "metadata": {
      "needs_background": "light"
     },
     "output_type": "display_data"
    }
   ],
   "source": [
    "df2 = movie_df.groupby('Certificate')['IMDB_Rating'].mean() \n",
    "fig, ax1 = plt.subplots(figsize=(12,8))\n",
    "ax1 = sns.countplot(x=\"Certificate\", data=movie_df, palette=\"Set2\", order=movie_df['Certificate'].value_counts().index[0:13])"
   ]
  }
 ],
 "metadata": {
  "kernelspec": {
   "display_name": "Python 3 (ipykernel)",
   "language": "python",
   "name": "python3"
  },
  "language_info": {
   "codemirror_mode": {
    "name": "ipython",
    "version": 3
   },
   "file_extension": ".py",
   "mimetype": "text/x-python",
   "name": "python",
   "nbconvert_exporter": "python",
   "pygments_lexer": "ipython3",
   "version": "3.9.12"
  },
  "papermill": {
   "default_parameters": {},
   "duration": 13.655561,
   "end_time": "2022-10-20T20:45:00.605283",
   "environment_variables": {},
   "exception": null,
   "input_path": "__notebook__.ipynb",
   "output_path": "__notebook__.ipynb",
   "parameters": {},
   "start_time": "2022-10-20T20:44:46.949722",
   "version": "2.3.4"
  }
 },
 "nbformat": 4,
 "nbformat_minor": 5
}
